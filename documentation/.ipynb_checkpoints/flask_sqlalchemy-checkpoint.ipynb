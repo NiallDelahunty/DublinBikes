{
 "cells": [
  {
   "cell_type": "markdown",
   "metadata": {},
   "source": [
    "<h1>flask_sqlalchemy</h1><br>\n",
    "\n",
    "<div>SQL Alchemy is a popular Object Relational Mapper (ORM). We use it in this project for the following reasons:</div>\n",
    "<br>\n",
    "<ul><li>it creates a bridge from OOP code to relational DB structure by mapping objects to relations, thus allowing access to DB in object oriented way</li><br>\n",
    "    <li>it is easy to use for several DBs and allows seamless transition from one DB to another. this is very convenient for development, as we can use local easy to set up SQLite.</li><br>\n",
    "    <li>seamless representation of DB structure as classes in python.</li>\n",
    "    </ul><br>\n",
    "<div>Important learnings during the Project are documented below. This shall not be interpreted as full documentation of flask_sqlalchemy module. Future learnings relevant to SQL alchemy shall be appended.  \n",
    "  "
   ]
  },
  {
   "cell_type": "markdown",
   "metadata": {},
   "source": [
    "To display the functionality of flask_sqlalchemy, we need a test app first:"
   ]
  },
  {
   "cell_type": "code",
   "execution_count": 1,
   "metadata": {},
   "outputs": [],
   "source": [
    "from flask import Flask\n",
    "test=Flask('Test')"
   ]
  },
  {
   "cell_type": "markdown",
   "metadata": {},
   "source": [
    "SQLite offer lightweight DBs. They are easy to set up, making them a suitable choice for development:"
   ]
  },
  {
   "cell_type": "code",
   "execution_count": 2,
   "metadata": {},
   "outputs": [],
   "source": [
    "test.config['SQLALCHEMY_DATABASE_URI']='sqlite:///test.db' #triple slash for local URI"
   ]
  },
  {
   "cell_type": "markdown",
   "metadata": {},
   "source": [
    "In order to use SQL Alchemy, we need to set it up first:"
   ]
  },
  {
   "cell_type": "code",
   "execution_count": 3,
   "metadata": {},
   "outputs": [
    {
     "name": "stderr",
     "output_type": "stream",
     "text": [
      "C:\\Users\\jakob\\Anaconda3\\envs\\comp30830\\lib\\site-packages\\flask_sqlalchemy\\__init__.py:835: FSADeprecationWarning: SQLALCHEMY_TRACK_MODIFICATIONS adds significant overhead and will be disabled by default in the future.  Set it to True or False to suppress this warning.\n",
      "  'SQLALCHEMY_TRACK_MODIFICATIONS adds significant overhead and '\n"
     ]
    }
   ],
   "source": [
    "from flask_sqlalchemy import SQLAlchemy\n",
    "db=SQLAlchemy(test)"
   ]
  },
  {
   "cell_type": "markdown",
   "metadata": {},
   "source": [
    "Now, let's create a simple class model with SQLalchemy. This corresponds to a table structure in our DB:"
   ]
  },
  {
   "cell_type": "code",
   "execution_count": 4,
   "metadata": {},
   "outputs": [],
   "source": [
    "class Project_member(db.Model):\n",
    "    id=db.Column(db.Integer,primary_key=True) #specifies id as PK\n",
    "    name=db.Column(db.String(40),unique=True,nullable=False) #name must be unique and must contain data\n",
    "    role=db.Column(db.String(30))\n",
    "    \n",
    "    def __repr__(self): #function specifies how data is represented when queried.\n",
    "        return f\"Project Member('{self.name}', '{self.role}')\""
   ]
  },
  {
   "cell_type": "markdown",
   "metadata": {},
   "source": [
    "In order to test our class model, we need to create a DB instance:"
   ]
  },
  {
   "cell_type": "code",
   "execution_count": 5,
   "metadata": {},
   "outputs": [],
   "source": [
    "db.create_all()"
   ]
  },
  {
   "cell_type": "markdown",
   "metadata": {},
   "source": [
    "After running the line above, local DB should be in directory. The DB now contains the schema specified in our class model."
   ]
  },
  {
   "cell_type": "markdown",
   "metadata": {},
   "source": [
    "Now, we can create instances of our class model:"
   ]
  },
  {
   "cell_type": "code",
   "execution_count": 6,
   "metadata": {},
   "outputs": [],
   "source": [
    "sev=Project_member(name='Sev',role='Product Owner')\n",
    "jakob=Project_member(name='Jakob',role='Dev')"
   ]
  },
  {
   "cell_type": "markdown",
   "metadata": {},
   "source": [
    "In order to add them to our DB, we need to add them to our DB session and commit:"
   ]
  },
  {
   "cell_type": "code",
   "execution_count": 7,
   "metadata": {},
   "outputs": [],
   "source": [
    "db.session.add(sev)\n",
    "db.session.add(jakob)\n",
    "db.session.commit()"
   ]
  },
  {
   "cell_type": "markdown",
   "metadata": {},
   "source": [
    "Our project members should now be featured in the DB. We can check this with some queries:"
   ]
  },
  {
   "cell_type": "code",
   "execution_count": 8,
   "metadata": {},
   "outputs": [
    {
     "data": {
      "text/plain": [
       "[Project Member('Sev', 'Product Owner'), Project Member('Jakob', 'Dev')]"
      ]
     },
     "execution_count": 8,
     "metadata": {},
     "output_type": "execute_result"
    }
   ],
   "source": [
    "Project_member.query.all()"
   ]
  },
  {
   "cell_type": "code",
   "execution_count": 9,
   "metadata": {},
   "outputs": [
    {
     "data": {
      "text/plain": [
       "Project Member('Sev', 'Product Owner')"
      ]
     },
     "execution_count": 9,
     "metadata": {},
     "output_type": "execute_result"
    }
   ],
   "source": [
    "sev=Project_member.query.first()\n",
    "sev"
   ]
  },
  {
   "cell_type": "markdown",
   "metadata": {},
   "source": [
    "Note that we can also access attributes that aren't in our representation operation with the dot notation:"
   ]
  },
  {
   "cell_type": "code",
   "execution_count": 10,
   "metadata": {},
   "outputs": [
    {
     "data": {
      "text/plain": [
       "1"
      ]
     },
     "execution_count": 10,
     "metadata": {},
     "output_type": "execute_result"
    }
   ],
   "source": [
    "sev.id"
   ]
  },
  {
   "cell_type": "markdown",
   "metadata": {},
   "source": [
    "Knowing that Sev's PK is 1, we could have also fetched him by specifying a PK in the command:"
   ]
  },
  {
   "cell_type": "code",
   "execution_count": 11,
   "metadata": {},
   "outputs": [
    {
     "data": {
      "text/plain": [
       "Project Member('Sev', 'Product Owner')"
      ]
     },
     "execution_count": 11,
     "metadata": {},
     "output_type": "execute_result"
    }
   ],
   "source": [
    "Project_member.query.get(1)"
   ]
  },
  {
   "cell_type": "markdown",
   "metadata": {},
   "source": [
    "We can also filter our query results:"
   ]
  },
  {
   "cell_type": "code",
   "execution_count": 12,
   "metadata": {},
   "outputs": [
    {
     "data": {
      "text/plain": [
       "[Project Member('Jakob', 'Dev')]"
      ]
     },
     "execution_count": 12,
     "metadata": {},
     "output_type": "execute_result"
    }
   ],
   "source": [
    "Project_member.query.filter_by(role='Dev').all()"
   ]
  },
  {
   "cell_type": "markdown",
   "metadata": {},
   "source": [
    "If we want to wipe our DB, we can do so:"
   ]
  },
  {
   "cell_type": "code",
   "execution_count": 13,
   "metadata": {},
   "outputs": [
    {
     "ename": "PermissionError",
     "evalue": "[WinError 32] The process cannot access the file because it is being used by another process: 'test.db'",
     "output_type": "error",
     "traceback": [
      "\u001b[1;31m---------------------------------------------------------------------------\u001b[0m",
      "\u001b[1;31mPermissionError\u001b[0m                           Traceback (most recent call last)",
      "\u001b[1;32m<ipython-input-13-a8f55bd4903f>\u001b[0m in \u001b[0;36m<module>\u001b[1;34m\u001b[0m\n\u001b[0;32m      2\u001b[0m \u001b[0mdb\u001b[0m\u001b[1;33m.\u001b[0m\u001b[0mdrop_all\u001b[0m\u001b[1;33m(\u001b[0m\u001b[1;33m)\u001b[0m\u001b[1;33m\u001b[0m\u001b[1;33m\u001b[0m\u001b[0m\n\u001b[0;32m      3\u001b[0m \u001b[0mdb\u001b[0m\u001b[1;33m.\u001b[0m\u001b[0mengine\u001b[0m\u001b[1;33m.\u001b[0m\u001b[0mdispose\u001b[0m\u001b[1;33m(\u001b[0m\u001b[1;33m)\u001b[0m\u001b[1;33m\u001b[0m\u001b[1;33m\u001b[0m\u001b[0m\n\u001b[1;32m----> 4\u001b[1;33m \u001b[0mos\u001b[0m\u001b[1;33m.\u001b[0m\u001b[0mremove\u001b[0m\u001b[1;33m(\u001b[0m\u001b[1;34m'test.db'\u001b[0m\u001b[1;33m)\u001b[0m\u001b[1;33m\u001b[0m\u001b[1;33m\u001b[0m\u001b[0m\n\u001b[0m",
      "\u001b[1;31mPermissionError\u001b[0m: [WinError 32] The process cannot access the file because it is being used by another process: 'test.db'"
     ]
    }
   ],
   "source": [
    "db.drop_all()"
   ]
  },
  {
   "cell_type": "code",
   "execution_count": null,
   "metadata": {},
   "outputs": [],
   "source": [
    "#Project_member.query.all() #now causes error b/c table does not exist"
   ]
  },
  {
   "cell_type": "markdown",
   "metadata": {},
   "source": [
    "So to recap, we get to our previous state by creating the DB schema and committing user model instances to it:"
   ]
  },
  {
   "cell_type": "code",
   "execution_count": null,
   "metadata": {},
   "outputs": [],
   "source": [
    "db.create_all()\n",
    "sev=Project_member(name='Sev',role='Product Owner')\n",
    "jakob=Project_member(name='Jakob',role='Dev')\n",
    "db.session.add(sev)\n",
    "db.session.add(jakob)\n",
    "db.session.commit()"
   ]
  },
  {
   "cell_type": "code",
   "execution_count": null,
   "metadata": {},
   "outputs": [],
   "source": [
    "Project_member.query.all()"
   ]
  },
  {
   "cell_type": "markdown",
   "metadata": {},
   "source": [
    "We might want to add a class model wih tasks:"
   ]
  },
  {
   "cell_type": "code",
   "execution_count": null,
   "metadata": {},
   "outputs": [],
   "source": [
    "from datetime import datetime #need this for the time representation\n",
    "\n",
    "class Task(db.Model):\n",
    "    id=db.Column(db.Integer,primary_key=True)\n",
    "    name=db.Column(db.String(100),nullable=False)\n",
    "    issued=db.Column(db.DateTime,nullable=False,default=datetime.utcnow) #now parentheses for utcnow to pass function as argument\n",
    "    description=db.Column(db.Text)\n",
    "    \n",
    "    def __repr__(self):\n",
    "        return f\"Task('{self.name}', '{self.issued}')\""
   ]
  },
  {
   "cell_type": "code",
   "execution_count": null,
   "metadata": {},
   "outputs": [],
   "source": [
    "db.create_all()"
   ]
  },
  {
   "cell_type": "code",
   "execution_count": null,
   "metadata": {},
   "outputs": [],
   "source": [
    "task1=Task(name='Documentation')\n",
    "db.session.add(task1)\n",
    "db.session.commit()\n",
    "Task.query.all()"
   ]
  },
  {
   "cell_type": "markdown",
   "metadata": {},
   "source": [
    "If we want to link the Tasks to Project Members, we have to extend our Class Models to include foreign keys:"
   ]
  },
  {
   "cell_type": "code",
   "execution_count": null,
   "metadata": {},
   "outputs": [],
   "source": [
    "db.drop_all() #Let's clear our DB once more.\n",
    "db.engine.dispose() #Let's get rid of all our current connections to the DB\n",
    "db=SQLAlchemy(test) #let's start with a fresh SQLAlchemy instance as we had already established class models in the previous\n",
    "\n",
    "class Project_member(db.Model):\n",
    "    id=db.Column(db.Integer,primary_key=True) #specifies id as PK\n",
    "    name=db.Column(db.String(40),unique=True,nullable=False) #name must be unique and must contain data\n",
    "    role=db.Column(db.String(30))\n",
    "    \n",
    "    \"\"\"THIS IS THE NEW CODE\"\"\"\n",
    "    tasks=db.relationship('Task',backref='owner',lazy=True) #lazy arguments defines how data is loaded. set to True, sqlalchemy loads the data in one go.\n",
    "    \"\"\"END OF NEW CODE\"\"\"\n",
    "    \n",
    "    def __repr__(self): #function specifies how data is represented when queried.\n",
    "        return f\"Project Member('{self.name}', '{self.role}')\"\n",
    "    \n",
    "class Task(db.Model):\n",
    "    id=db.Column(db.Integer,primary_key=True)\n",
    "    name=db.Column(db.String(100),nullable=False)\n",
    "    issued=db.Column(db.DateTime,nullable=False,default=datetime.utcnow) #now parentheses for utcnow to pass function as argument\n",
    "    description=db.Column(db.Text)\n",
    "    \n",
    "    \"\"\"THIS IS MORE NEW CODE\"\"\"\n",
    "    owner_id=db.Column(db.Integer,db.ForeignKey('project_member.id'),nullable=False) #note the lower case for the foreign key as it refers to the table name, not our class model.\n",
    "    \"\"\"END OF NEW CODE\"\"\"\n",
    "    \n",
    "    def __repr__(self):\n",
    "        return f\"Task('{self.name}', '{self.issued}')\""
   ]
  },
  {
   "cell_type": "code",
   "execution_count": null,
   "metadata": {},
   "outputs": [],
   "source": [
    "db.create_all()\n",
    "sev=Project_member(name='Sev',role='Product Owner')\n",
    "jakob=Project_member(name='Jakob',role='Dev')\n",
    "db.session.add(sev)\n",
    "db.session.add(jakob)\n",
    "db.session.commit()"
   ]
  },
  {
   "cell_type": "code",
   "execution_count": null,
   "metadata": {},
   "outputs": [],
   "source": [
    "Project_member.query.all()"
   ]
  },
  {
   "cell_type": "markdown",
   "metadata": {},
   "source": [
    "SQL Alchemy now runs a background query to fetch all tasks associated with a queried user:"
   ]
  },
  {
   "cell_type": "code",
   "execution_count": null,
   "metadata": {},
   "outputs": [],
   "source": [
    "jakob=Project_member.query.filter_by(name='Jakob').first()\n",
    "jakob.tasks"
   ]
  },
  {
   "cell_type": "markdown",
   "metadata": {},
   "source": [
    "After adding some tasks, and assigning them to the PK of Jakob, they will show up on the next query:"
   ]
  },
  {
   "cell_type": "code",
   "execution_count": null,
   "metadata": {},
   "outputs": [],
   "source": [
    "task_1=Task(name='Implement Flask App',owner_id=jakob.id)\n",
    "task_2=Task(name='Document Learnings',owner_id=jakob.id)\n",
    "db.session.add(task_1)\n",
    "db.session.add(task_2)\n",
    "db.session.commit()\n",
    "Project_member.query.filter_by(name='Jakob').first().tasks"
   ]
  },
  {
   "cell_type": "markdown",
   "metadata": {},
   "source": [
    "This is it for now, so let's drop our tables again to make sure the DB is in a clean state:"
   ]
  },
  {
   "cell_type": "code",
   "execution_count": 14,
   "metadata": {},
   "outputs": [],
   "source": [
    "db.drop_all()"
   ]
  }
 ],
 "metadata": {
  "kernelspec": {
   "display_name": "Python 3",
   "language": "python",
   "name": "python3"
  },
  "language_info": {
   "codemirror_mode": {
    "name": "ipython",
    "version": 3
   },
   "file_extension": ".py",
   "mimetype": "text/x-python",
   "name": "python",
   "nbconvert_exporter": "python",
   "pygments_lexer": "ipython3",
   "version": "3.7.4"
  }
 },
 "nbformat": 4,
 "nbformat_minor": 4
}
