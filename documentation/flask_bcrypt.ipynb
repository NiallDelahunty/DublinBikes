{
 "cells": [
  {
   "cell_type": "markdown",
   "metadata": {},
   "source": [
    "<h1>flask_bcrypt</h1><br>\n",
    "<div>Bcrypt is a cryptographic hash function. We use it in our project to hash the users' passwords in order to increase our security. With an extension for flask, it's easy to use within flask apps.</div>"
   ]
  },
  {
   "cell_type": "code",
   "execution_count": 1,
   "metadata": {},
   "outputs": [
    {
     "data": {
      "text/plain": [
       "b'$2b$12$eInjPlYsbfaklrswqrrd6.WPL1sNtHtPmmsfMFbiKlvHULnZyIQei'"
      ]
     },
     "execution_count": 1,
     "metadata": {},
     "output_type": "execute_result"
    }
   ],
   "source": [
    "from flask_bcrypt import Bcrypt\n",
    "bcrypt=Bcrypt()\n",
    "pw='password_123'\n",
    "bcrypt.generate_password_hash(pw)"
   ]
  },
  {
   "cell_type": "markdown",
   "metadata": {},
   "source": [
    "The hashing function provides different hashes everytime we call it. The purpose here is to not be able to crack the password by using a hash table:"
   ]
  },
  {
   "cell_type": "code",
   "execution_count": 2,
   "metadata": {},
   "outputs": [
    {
     "data": {
      "text/plain": [
       "b'$2b$12$ONm8LyoY2ymJZDDHP5s1XOKLu053NsHbEzONbD2Mp3beM/Hb3txey'"
      ]
     },
     "execution_count": 2,
     "metadata": {},
     "output_type": "execute_result"
    }
   ],
   "source": [
    "bcrypt.generate_password_hash(pw)"
   ]
  },
  {
   "cell_type": "markdown",
   "metadata": {},
   "source": [
    "If we prefer a String over byte, we can decode it:"
   ]
  },
  {
   "cell_type": "code",
   "execution_count": 3,
   "metadata": {},
   "outputs": [
    {
     "data": {
      "text/plain": [
       "'$2b$12$.jBMDVhcbCPK.3RE2Ta7eeBSdUJQQNJIz7AME3yVkOsOUEknzwBdi'"
      ]
     },
     "execution_count": 3,
     "metadata": {},
     "output_type": "execute_result"
    }
   ],
   "source": [
    "hashed_pw=bcrypt.generate_password_hash(pw).decode('utf-8')\n",
    "hashed_pw"
   ]
  },
  {
   "cell_type": "markdown",
   "metadata": {},
   "source": [
    "As the hashes generated with the same password as input differ, we cannot simply compare the hashes when validated. flask_bcrypt provides an operation to check the validity of a password:"
   ]
  },
  {
   "cell_type": "code",
   "execution_count": 4,
   "metadata": {},
   "outputs": [
    {
     "data": {
      "text/plain": [
       "False"
      ]
     },
     "execution_count": 4,
     "metadata": {},
     "output_type": "execute_result"
    }
   ],
   "source": [
    "wrong_pw='assword_123'\n",
    "bcrypt.check_password_hash(hashed_pw,wrong_pw) #should return False"
   ]
  },
  {
   "cell_type": "code",
   "execution_count": 5,
   "metadata": {},
   "outputs": [
    {
     "data": {
      "text/plain": [
       "True"
      ]
     },
     "execution_count": 5,
     "metadata": {},
     "output_type": "execute_result"
    }
   ],
   "source": [
    "bcrypt.check_password_hash(hashed_pw,pw) #should return True"
   ]
  }
 ],
 "metadata": {
  "kernelspec": {
   "display_name": "Python 3",
   "language": "python",
   "name": "python3"
  },
  "language_info": {
   "codemirror_mode": {
    "name": "ipython",
    "version": 3
   },
   "file_extension": ".py",
   "mimetype": "text/x-python",
   "name": "python",
   "nbconvert_exporter": "python",
   "pygments_lexer": "ipython3",
   "version": "3.7.4"
  }
 },
 "nbformat": 4,
 "nbformat_minor": 2
}
